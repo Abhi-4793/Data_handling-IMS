{
  "nbformat": 4,
  "nbformat_minor": 0,
  "metadata": {
    "orig_nbformat": 4,
    "language_info": {
      "name": "python",
      "version": "3.8.5",
      "mimetype": "text/x-python",
      "codemirror_mode": {
        "name": "ipython",
        "version": 3
      },
      "pygments_lexer": "ipython3",
      "nbconvert_exporter": "python",
      "file_extension": ".py"
    },
    "kernelspec": {
      "name": "python3",
      "display_name": "Python 3.8.5 64-bit ('base': conda)"
    },
    "interpreter": {
      "hash": "64fbe09aa140226ebef7b134872e6e66e3d916dbcb74e6f22199975e4c5ac526"
    },
    "colab": {
      "name": "Data_handling_IMS.ipynb",
      "provenance": [],
      "collapsed_sections": []
    }
  },
  "cells": [
    {
      "cell_type": "code",
      "metadata": {
        "id": "lhq2mUgRSltj"
      },
      "source": [
        "import json\n",
        "import pandas as pd\n",
        "\n",
        "import time\n",
        "\n",
        "\n"
      ],
      "execution_count": 1,
      "outputs": []
    },
    {
      "cell_type": "code",
      "metadata": {
        "id": "4z6Fi3_ESltl"
      },
      "source": [
        "fd = open(\"record.json\",'r')\n",
        "rd = fd.read()\n",
        "fd.close()\n"
      ],
      "execution_count": 2,
      "outputs": []
    },
    {
      "cell_type": "code",
      "metadata": {
        "id": "lvJaq1a-pJfe"
      },
      "source": [
        "record = json.loads(rd)"
      ],
      "execution_count": 3,
      "outputs": []
    },
    {
      "cell_type": "code",
      "metadata": {
        "id": "RamWCI8xSltl"
      },
      "source": [
        "f = open(\"sales.json\",'r')\n",
        "rdd = f.read()\n",
        "f.close()\n"
      ],
      "execution_count": 4,
      "outputs": []
    },
    {
      "cell_type": "code",
      "metadata": {
        "id": "T6zvfSrwpOYm"
      },
      "source": [
        "inv = json.loads(rdd)"
      ],
      "execution_count": 5,
      "outputs": []
    },
    {
      "cell_type": "code",
      "metadata": {
        "id": "uV02u-x3Sltm"
      },
      "source": [
        "id=0\n",
        "tr_id=0\n",
        "def SaleInv():\n",
        "\n",
        "    ui_prod  = str(input(\"Enter the product_Id: \"))\n",
        "    ui_quant = int(input(\"Enter the quantity: \"))\n",
        "    global id\n",
        "    global tr_id\n",
        "    try:\n",
        "        item = record[ui_prod]\n",
        "        if ui_quant>item['qn']:\n",
        "            raise Exception(\"Item Out of stock\")\n",
        "        else:\n",
        "            print(\"Product: \", record[ui_prod]['name'])\n",
        "            print(\"Price: \", record[ui_prod]['pr'])\n",
        "            print(\"Quantity: \",ui_quant)\n",
        "            print(\"Billing Amount: \", record[ui_prod]['pr'] * ui_quant)\n",
        "            \n",
        "            l_time = time.ctime()\n",
        "            print(\"Time of purchase::\",l_time)\n",
        "\n",
        "            item['qn']=item['qn']-ui_quant\n",
        "            \n",
        "            record[ui_prod]=item\n",
        "            d={\"Transaction Id\":tr_id,\"Product\":record[ui_prod]['name'] , \"Price\":record[ui_prod]['pr'] , \"quantity\":ui_quant,\"Billing amount\": record[ui_prod]['pr'] * ui_quant,\"Time of purchase\":l_time}\n",
        "            inv[id]=d\n",
        "            f=open(\"invoice.json\",'w')\n",
        "            fb=json.dump(inv,f)\n",
        "            f.close()\n",
        "            fd = open(\"record.json\",'w')\n",
        "            js = json.dump(record,fd)\n",
        "            fd.close()\n",
        "            n=input(\"Do you want to add more product in your order y/n: \")\n",
        "            if(n=='n' or n=='N'):\n",
        "                tr_id+=1\n",
        "                exit()\n",
        "            else:\n",
        "                id+=1\n",
        "                SaleInv()\n",
        "    except Exception:\n",
        "        print(\"Item Out of Stock\")\n",
        "        SaleInv()\n"
      ],
      "execution_count": 6,
      "outputs": []
    },
    {
      "cell_type": "code",
      "metadata": {
        "id": "b00OHR6JSlto"
      },
      "source": [
        "def dis():\n",
        "    fd = open(\"record.json\",'r')\n",
        "    r = fd.read()\n",
        "    fd.close()\n",
        "    record = json.loads(r)\n",
        "    df=pd.DataFrame(record)\n",
        "    print(df.T)\n",
        "\n"
      ],
      "execution_count": 7,
      "outputs": []
    },
    {
      "cell_type": "code",
      "metadata": {
        "id": "5NXIv3r5Sltp"
      },
      "source": [
        "def sale():\n",
        "    f = open(\"sales.json\",'r')\n",
        "    b = f.read()\n",
        "    f.close()\n",
        "    bil= json.loads(b)\n",
        "    daf=pd.DataFrame(bil)\n",
        "    daf=daf.T\n",
        "    print(\"Total=\",daf['Billing amount'].sum())\n",
        "    print(daf)"
      ],
      "execution_count": 8,
      "outputs": []
    },
    {
      "cell_type": "code",
      "metadata": {
        "id": "Re1V8rzZSltq",
        "colab": {
          "base_uri": "https://localhost:8080/"
        },
        "outputId": "08495858-3baa-4ef2-ae0d-abbb2356e3d4"
      },
      "source": [
        "if __name__=='__main__':\n",
        "    print(\"Main Function\")\n",
        "    print(\"2.Press 1 to make Sale: \")\n",
        "    print(\"3.Press 2 to display the stock: \")\n",
        "    print(\"5 Press 3 to generate the Total sales: \")\n",
        "    while(True):\n",
        "        N=int(input(\"Enter your choice\"))\n",
        "        \n",
        "        if N==1:\n",
        "            SaleInv()\n",
        "        elif N==2:\n",
        "            dis()\n",
        "        elif N==3:\n",
        "            sale()\n",
        "        else:\n",
        "            print(\"Invalid choice\")\n",
        "        l=input(\"Do you want to perform more operation? Y/N\")\n",
        "        if(l=='n' or l=='N'):\n",
        "            break\n",
        "        else:\n",
        "            continue"
      ],
      "execution_count": 9,
      "outputs": [
        {
          "name": "stdout",
          "output_type": "stream",
          "text": [
            "Main Function\n",
            "2.Press 1 to make Sale: \n",
            "3.Press 2 to display the stock: \n",
            "5 Press 3 to generate the Total sales: \n",
            "Enter your choice1\n",
            "Enter the product_Id: 1004\n",
            "Enter the quantity: 2\n",
            "Product:  Candy\n",
            "Price:  5\n",
            "Quantity:  2\n",
            "Billing Amount:  10\n",
            "Time of purchase:: Mon Sep  6 16:06:00 2021\n",
            "Do you want to add more product in your order y/n: n\n",
            "Do you want to perform more operation? Y/Nn\n"
          ]
        }
      ]
    },
    {
      "cell_type": "code",
      "metadata": {
        "id": "6qiXZ3w1Slts"
      },
      "source": [
        "import pandas as pd\n",
        "pd.DataFrame(record)"
      ],
      "execution_count": null,
      "outputs": []
    },
    {
      "cell_type": "code",
      "metadata": {
        "id": "xfEJA_aG9nUn"
      },
      "source": [
        ""
      ],
      "execution_count": null,
      "outputs": []
    }
  ]
}